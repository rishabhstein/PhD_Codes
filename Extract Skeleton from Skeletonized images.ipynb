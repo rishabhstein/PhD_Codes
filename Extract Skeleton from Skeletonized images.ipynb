{
 "cells": [
  {
   "cell_type": "markdown",
   "metadata": {},
   "source": [
    "## Extract Skeleton from Skeletonized images"
   ]
  },
  {
   "cell_type": "code",
   "execution_count": 28,
   "metadata": {},
   "outputs": [],
   "source": [
    "import numpy as np\n",
    "import matplotlib.pyplot as plt\n",
    "import skan\n",
    "from pathlib import Path\n",
    "import networkx as nx"
   ]
  },
  {
   "cell_type": "code",
   "execution_count": 80,
   "metadata": {},
   "outputs": [],
   "source": [
    "from skimage.morphology import skeletonize, skeletonize_3d\n",
    "import skimage as sk\n",
    "\n",
    "# path = Path('/home/rishabhstein/Documents/Python_Scripts/Copied_Data/Wierzbica/WB10/TimeView/diff/Dominant_wormhole/Skeleton/')\n",
    "# file = Path(path.resolve(), 'diff_52_dominant_skeleteon1.tif')\n",
    "\n",
    "\n",
    "# path = Path('/home/rishabhstein/Desktop/')\n",
    "# file = Path(path.resolve(), 'test4_loop_skan2D.tif')\n",
    "\n",
    "\n",
    "path = Path('/home/rishabhstein/Documents/Python_Scripts/Copied_Data/Pinczow/PZ_01_ILL_diff/Skeleton/')\n",
    "suffix = 'PZ_01_ILL_skeleton_Hres_final'\n",
    "file = Path(path.resolve(), suffix + '.tif')\n",
    "\n",
    "\n",
    "\n",
    "skeleton = sk.io.imread(str(file))\n",
    "\n"
   ]
  },
  {
   "cell_type": "code",
   "execution_count": 81,
   "metadata": {},
   "outputs": [
    {
     "data": {
      "text/plain": [
       "<module 'lib.Analyze_Skeleton' from '/home/rishabhstein/Documents/Python_Scripts/Notebooks/lib/Analyze_Skeleton.py'>"
      ]
     },
     "execution_count": 81,
     "metadata": {},
     "output_type": "execute_result"
    }
   ],
   "source": [
    "from lib import Analyze_Skeleton as AS\n",
    "import importlib\n",
    "importlib.reload(AS)\n"
   ]
  },
  {
   "cell_type": "code",
   "execution_count": 82,
   "metadata": {},
   "outputs": [],
   "source": [
    "WB07 = AS.Analyze_Skeleton(skeleton, suffix = suffix)"
   ]
  },
  {
   "cell_type": "code",
   "execution_count": 83,
   "metadata": {},
   "outputs": [],
   "source": [
    "WB07.Skeletonized_image_to_NetworkX_Graph()"
   ]
  },
  {
   "cell_type": "markdown",
   "metadata": {},
   "source": [
    "### Visualize in Paraview"
   ]
  },
  {
   "cell_type": "code",
   "execution_count": 84,
   "metadata": {},
   "outputs": [],
   "source": [
    "WB07.Nx_to_vtk(addtional_suffix='old')"
   ]
  },
  {
   "cell_type": "code",
   "execution_count": 85,
   "metadata": {},
   "outputs": [
    {
     "name": "stdout",
     "output_type": "stream",
     "text": [
      "[0, 1996, 1997, 2006, 2015, 2017, 2019, 2027, 2036, 2044, 2050, 2054, 2055, 2059, 2064, 2069, 2070, 2077, 2078, 2085, 2086, 2099, 2105, 2106, 2107, 2108, 2134, 2135, 2184, 2194, 2205, 2206, 2207, 2221, 2223, 2226, 2275, 2287, 2290, 2291, 2295, 2303, 2304, 2310, 2331, 2359, 2369, 2370, 2371, 2380, 2381, 2382, 2391, 2393, 2394, 2401, 2407, 2408, 2409, 2419, 2420, 2454, 2463, 2464, 2465, 2466, 2485, 2486, 2493, 2494, 2508, 2513, 2530, 2547, 2636, 2637, 2643, 2646, 2656, 2663, 2664, 2689, 2698, 2713, 2721, 2722, 2729, 2735, 2736, 2738, 2745, 2758, 2759, 2760, 2771, 2777, 2778, 2792, 2824, 2831, 2851, 2856, 2857, 2858, 2866, 2880, 2897, 2900, 2904, 2948, 3003, 3004, 3005, 3007, 3009, 3011, 3012, 3025, 3026, 3027, 3037, 3056, 3064, 3065, 3081, 3085, 3086, 3088, 3097, 3100, 3101, 3105, 3122, 3154, 3166, 3167, 3176, 3178, 3188, 3189, 3193, 3194, 3195, 3202, 3203, 3204, 3205, 3208, 3209, 3211, 3212, 3213, 3218, 3219, 3220, 3226, 3239, 3243, 3260, 3263, 3264, 3270, 3284, 3285, 3287, 3291, 3303, 3304, 3305, 3308, 3323, 3329, 3332, 3343, 3344, 3348, 3366, 3374, 3380, 3381, 3387, 3388, 3394, 3431, 3463, 3467, 3468, 3479, 3486, 3487, 3490, 3495, 3498, 3502, 3510, 3511, 3512, 3515]\n"
     ]
    }
   ],
   "source": [
    "isolated_mnode = WB07.Remove_isolated_nodes()\n",
    "print(isolated_mnode)"
   ]
  },
  {
   "cell_type": "markdown",
   "metadata": {},
   "source": [
    "### Delete loops if necessary"
   ]
  },
  {
   "cell_type": "code",
   "execution_count": 89,
   "metadata": {},
   "outputs": [
    {
     "name": "stdout",
     "output_type": "stream",
     "text": [
      "Finding dominant wormhole\n",
      "%=====================Looking for Inlet node=========================%\n",
      "\n",
      "Node-0is not connected to main wormhole\n",
      "Node-1 is connected and chosen as source node\n",
      "%=====================Looking for Outlet node=========================%\n",
      "\n",
      "\n",
      " Node-3534 is connected and chosen as outlet node\n",
      "No cycle found.\n"
     ]
    }
   ],
   "source": [
    "WB07.Delete_Loops_from_Skeleton()"
   ]
  },
  {
   "cell_type": "markdown",
   "metadata": {},
   "source": [
    "### Finding the dominant wormhole"
   ]
  },
  {
   "cell_type": "code",
   "execution_count": 217,
   "metadata": {},
   "outputs": [],
   "source": [
    "WB07.Nx_to_vtk(addtional_suffix='new')"
   ]
  },
  {
   "cell_type": "code",
   "execution_count": 90,
   "metadata": {},
   "outputs": [
    {
     "name": "stdout",
     "output_type": "stream",
     "text": [
      "Length of wormhole is:  725.2982303880395\n",
      "Tortuosity of wormhole is:  1.6298836637933474\n",
      "Wastefulness of wormhole is:  10.877546489462715\n"
     ]
    }
   ],
   "source": [
    "lenth = WB07.length_of_wormhole\n",
    "tot = WB07.Tortuosity()\n",
    "waste = WB07.Wastefulness()\n",
    "print(\"Length of wormhole is: \", lenth)\n",
    "print(\"Tortuosity of wormhole is: \", tot)\n",
    "print(\"Wastefulness of wormhole is: \", waste)"
   ]
  },
  {
   "cell_type": "code",
   "execution_count": 42,
   "metadata": {},
   "outputs": [
    {
     "data": {
      "text/plain": [
       "[<matplotlib.lines.Line2D at 0x7f8557530cc0>]"
      ]
     },
     "execution_count": 42,
     "metadata": {},
     "output_type": "execute_result"
    },
    {
     "data": {
      "image/png": "[encoded data removed]",
      "text/plain": [
       "<Figure size 432x288 with 1 Axes>"
      ]
     },
     "metadata": {
      "needs_background": "light"
     },
     "output_type": "display_data"
    }
   ],
   "source": [
    "import matplotlib.pyplot as plt\n",
    "ar = [16415, 114795, 215039, 270560, 303648]\n",
    "\n",
    "sf = [10382, 57998, 88953, 90855, 93563]\n",
    "\n",
    "\n",
    "Wst = [3.262, 3.471, 2.758, 3.029, 3.125]\n",
    "\n",
    "plt.plot(ar, 'b*')\n",
    "#plt.plot(sf, 'ro')\n",
    "#plt.plot(Wst,'g^')"
   ]
  },
  {
   "cell_type": "code",
   "execution_count": null,
   "metadata": {},
   "outputs": [],
   "source": []
  },
  {
   "cell_type": "code",
   "execution_count": null,
   "metadata": {},
   "outputs": [],
   "source": []
  },
  {
   "cell_type": "markdown",
   "metadata": {},
   "source": [
    "### Main function which find the loops and source and sync nodes"
   ]
  },
  {
   "cell_type": "code",
   "execution_count": null,
   "metadata": {},
   "outputs": [],
   "source": []
  },
  {
   "cell_type": "code",
   "execution_count": 82,
   "metadata": {},
   "outputs": [],
   "source": [
    "#Finding the dominant wormhole\n",
    "def Find_Dominant_Wormhole(G, cord):\n",
    "    #This function works best for 3D images, because of uncertainity in choosing\n",
    "    # Inlet and Outlet node in 2D\n",
    "    #No. of slices should be in Z-Axis (i.e First axis here)\n",
    "    \n",
    "    \n",
    "    outlet_node_found = False\n",
    "    inlet_in_isolated_node = False\n",
    "    \n",
    "    \n",
    "    non = len(cord) #non of total nodes\n",
    "    \n",
    "    print(\"%=====================Looking for Inlet node=========================%\")\n",
    "    inletz, _, _ = np.argmin(cord, axis=0)\n",
    "    \n",
    "    if inletz in isolated_mnode: \n",
    "        print(\"Node-\" + str(inletz) + \"is not connected to main wormhole\")\n",
    "        inlet_in_isolated_node = True\n",
    "        tmp_io = 0;\n",
    "        \n",
    "    while (inlet_in_isolated_node):\n",
    "        \n",
    "        tmp_io += 1 ;\n",
    "        inletz = tmp_io + np.argmin(cord[tmp_io:non, 0]) #tmp_ioo is added because location of minimum z is always zero if element is excluded\n",
    "\n",
    "        if inletz in isolated_mnode: \n",
    "            print(\"Node-\" + str(inletz) + \"is not connected to main wormhole\")\n",
    "            inlet_in_isolated_node = True\n",
    "        else:\n",
    "            print(\"Node-\"+ str(inletz) + \" is connected and chosen as source node\")\n",
    "            inlet_in_isolated_node = False\n",
    "            break;\n",
    "  \n",
    "    print(\"%=====================Looking for Outlet node=========================%\")     \n",
    "    i = 0;\n",
    "    while (outlet_node_found == False and i < 20):\n",
    "            \n",
    "        try:\n",
    "            outletz = np.argmax(cord[0:non, 0])\n",
    "            nx.shortest_path(G, inletz,  outletz)\n",
    "            outlet_node_found = True\n",
    "            \n",
    "        except Exception:\n",
    "            print(\"Node-\" + str(non) + \" is not connected to Node-\" + str(inletz))\n",
    "            non -= 1;  i += 1;\n",
    "            \n",
    "            \n",
    "    dominant_wormhole = nx.shortest_path(G, inletz,  outletz)\n",
    "    length_of_wormhole = nx.shortest_path_length(G, inletz,  outletz, weight='weight')\n",
    "    return length_of_wormhole, dominant_wormhole\n",
    "\n"
   ]
  },
  {
   "cell_type": "code",
   "execution_count": 83,
   "metadata": {},
   "outputs": [
    {
     "name": "stdout",
     "output_type": "stream",
     "text": [
      "%=====================Looking for Inlet node=========================%\n",
      "Node-0is not connected to main wormhole\n",
      "Node-1 is connected and chosen as source node\n",
      "%=====================Looking for Outlet node=========================%\n",
      "[1, 2, 3, 4, 5, 6, 7, 8, 9, 11, 18, 20, 21, 23, 25, 33, 36, 43, 45, 26, 49, 50, 51, 52, 53, 29, 58, 59, 60, 61, 62, 63, 64, 65, 66, 67, 68, 69, 70, 71, 72, 73, 74, 75, 76, 77, 78, 79, 80, 81, 82, 83, 84, 85, 86, 87, 88, 89, 90, 91, 92, 93, 94, 95, 96, 97, 98, 99, 100, 101, 102, 103, 104, 105, 106, 107, 108, 109, 110, 111, 112, 113, 114, 115, 116, 120, 119, 118, 132, 131, 117, 130, 129, 128, 127, 126, 125, 124, 123, 122, 121, 134, 133, 135, 136, 137, 138, 139, 140, 141, 142, 143, 144, 145, 146, 147, 148, 149, 150, 151, 152, 153, 48, 166, 167, 168, 169, 170, 171, 172, 173, 54, 175, 181, 183, 185, 189, 190, 191, 192, 193, 194, 195, 196, 197, 198, 199, 200, 201, 202, 203, 204, 205, 206, 207, 208, 209, 210, 212, 55, 214, 215, 216, 225, 231, 236, 240, 243, 56, 250, 261, 263, 265, 267, 270, 275, 277, 278, 279, 280, 281, 282, 283, 284, 285, 286, 287, 288, 289, 290, 291, 292, 293, 213, 298, 299, 300, 301, 302, 303, 304, 305, 306, 307, 308, 309, 310, 311, 312, 313, 314, 315, 316, 317, 318, 319, 320, 321, 322, 323, 324, 248, 329, 330, 339, 348, 347, 343, 344, 262, 351, 269, 374, 380, 386, 391, 394, 395, 402, 406, 407, 408, 409, 414, 417, 418, 419, 420, 295, 427, 428, 431, 433, 435, 437, 438, 439, 440, 441, 442, 443, 444, 445, 446, 447, 448, 449, 450, 451, 452, 453, 454, 455, 456, 457, 458, 459, 460, 461, 462, 463, 464, 465, 466, 467, 468, 297, 485, 486, 487, 488, 489, 490, 491, 492, 493, 494, 495, 496, 497, 498, 499, 500, 501, 502, 325, 506, 512, 515, 516, 517, 518, 519, 520, 521, 522, 523, 524, 525, 526, 527, 528, 529, 530, 531, 532, 533, 534, 535, 536, 537, 538, 539, 540, 541, 542, 543, 544, 545, 546, 547, 548, 549, 550, 551, 552, 553, 554, 555, 556, 557, 558, 559, 560, 561, 562, 563, 564, 565, 566, 567, 568, 569, 570, 571, 572, 573, 574, 575, 576, 577, 578, 579, 341, 581, 583, 585, 590, 592, 594, 595, 596, 597, 598, 599, 600, 601, 602, 603, 604, 605, 606, 607, 608, 609, 610, 611, 612, 613, 614, 615, 616, 617, 618, 619, 620, 621, 622, 623, 624, 625, 626, 627, 628, 629, 630, 631, 361, 635, 640, 646, 649, 651, 652, 653, 363, 656, 658, 666, 369, 684, 687, 691, 696, 700, 702, 704, 705, 425, 717, 716, 715, 723, 722, 726, 729, 735, 734, 738, 737, 740, 743, 748, 747, 480, 763, 762, 761, 769, 768, 767, 766, 773, 772, 771, 505, 778, 781, 783, 785, 786, 790, 810, 809, 808, 819, 818, 821, 820, 823, 822, 826, 827, 828, 829, 830, 831, 832, 833, 834, 835, 836, 580, 842, 853, 860, 869, 877, 632, 887, 888, 889, 890, 891, 892, 893, 894, 895, 896, 897, 898, 899, 900, 901, 902, 903, 904, 905, 906, 907, 908, 633, 917, 920, 922, 927, 929, 931, 934, 936, 938, 940, 944, 947, 951, 954, 957, 962, 965, 971, 970, 969, 968, 974, 654, 978, 980, 982, 997, 1008, 1020, 1026, 1029, 1033, 1036, 1039, 1042, 1046, 1048, 1050, 1052, 1054, 708, 1064, 1063, 1062, 1061, 1067, 1076, 1075, 1074, 1073, 1072, 1071, 1070, 1079, 712, 1086, 1091, 1096, 1099, 1102, 1105, 1108, 1112, 1114, 750, 1124, 1130, 1129, 1137, 776, 1150, 837, 1176, 1185, 1194, 1203, 1205, 1207, 1209, 1212, 1214, 1216, 1218, 1222, 1225, 1228, 1230, 885, 1251, 1256, 1259, 1262, 1267, 1275, 1279, 1282, 1289, 1295, 1298, 1302, 1304, 1306, 1308, 1310, 1312, 1314, 1316, 1318, 1320, 1322, 1324, 1330, 1335, 1337, 1339, 1341, 1344, 1346, 1348, 1350, 1352, 1354, 1356, 1358, 1360, 1362, 1364, 1366, 1368, 1370, 1372, 1374, 1376, 1378, 1380, 1382, 1385, 1389, 1391, 1393, 1398, 1401, 1404, 939, 1429, 1447, 1450, 1010, 1456, 1457, 1458, 1459, 1469, 1481, 1024, 1502, 1515, 1517, 1519, 1522, 1523, 1524, 1525, 1526, 1527, 1528, 1529, 1530, 1531, 1532, 1533, 1534, 1535, 1536, 1537, 1538, 1539, 1056, 1543, 1546, 1555, 1563, 1573, 1574, 1575, 1576, 1578, 1579, 1580, 1581, 1582, 1583, 1584, 1585, 1586, 1587, 1588, 1589, 1590, 1591, 1592, 1593, 1594, 1595, 1606, 1058, 1609, 1610, 1611, 1612, 1613, 1614, 1615, 1616, 1617, 1623, 1059, 1632, 1633, 1634, 1635, 1636, 1637, 1638, 1640, 1641, 1642, 1643, 1644, 1645, 1646, 1647, 1648, 1649, 1650, 1651, 1652, 1653, 1655, 1657, 1659, 1661, 1663, 1665, 1668, 1667, 1669, 1080, 1674, 1675, 1676, 1678, 1677, 1679, 1680, 1681, 1682, 1683, 1684, 1685, 1686, 1687, 1688, 1689, 1690, 1691, 1692, 1693, 1694, 1699, 1081, 1706, 1707, 1708, 1709, 1710, 1711, 1712, 1713, 1714, 1715, 1722, 1724, 1728, 1734, 1736, 1082, 1739, 1740, 1741, 1742, 1743, 1744, 1745, 1746, 1747, 1748, 1749, 1750, 1751, 1752, 1753, 1754, 1755, 1756, 1757, 1758, 1759, 1760, 1761, 1762, 1763, 1764, 1765, 1766, 1767, 1768, 1769, 1770, 1772, 1771, 1773, 1083, 1778, 1780, 1782, 1784, 1786, 1117, 1792, 1798, 1804, 1805, 1806, 1807, 1808, 1809, 1810, 1811, 1812, 1813, 1814, 1815, 1816, 1817, 1818, 1819, 1820, 1821, 1822, 1823, 1824, 1825, 1827, 1826, 1828, 1829, 1830, 1831, 1832, 1833, 1834, 1835, 1836, 1837, 1838, 1142, 1844, 1848, 1857, 1860, 1866, 1872, 1874, 1876, 1878, 1879, 1880, 1882, 1165, 1891, 1897, 1902, 1903, 1904, 1905, 1906, 1907, 1908, 1909, 1910, 1911, 1912, 1913, 1914, 1915, 1916, 1917, 1918, 1919, 1920, 1921, 1922, 1923, 1924, 1925, 1926, 1927, 1928, 1929, 1930, 1169, 1937, 1943, 1948, 1170, 1957, 1959, 1961, 1963, 1965, 1967, 1969, 1183, 1977, 1982, 1191, 1990, 1992, 1994, 1995, 1997, 1999, 2000, 2001, 2003, 2004, 2005, 2007, 1235, 2013, 2015, 2017, 2020, 2022, 2023, 2024, 1241, 2027, 2029, 2030, 2031, 2032, 2033, 2034, 2036, 2044, 2045, 2046, 2047, 2048, 2049, 2050, 2051, 2052, 2053, 2054, 2055, 2056, 2057, 2058, 2059, 2060, 2061, 2062, 2063, 2064, 2065, 2066, 2067, 2068, 2069, 2070, 2071, 2072, 2073, 2074, 2075, 2076, 2077, 2079, 2078, 2080, 2081, 2082, 2083, 2084, 2085, 2086, 2087, 2088, 2089, 2090, 2091, 2092, 2093, 2094, 2095, 2096, 2097, 2098, 2099, 2100, 2101, 2102, 2103, 2105, 2104, 2106, 2107, 2108, 2109, 2110, 2111, 2112, 2113, 2114, 2115, 2116, 2120, 2122, 1242, 2125, 2126, 1243, 2134, 1245, 2147, 2149, 2154, 2155, 2156, 2158, 2160, 1249, 2163, 2164, 2165, 2166, 2167, 2168, 2169, 2170, 2171, 1253, 2187, 2190, 2193, 2192, 2195, 2197, 2199, 2201, 2204, 2209, 1329, 2215, 2220, 2231, 2241, 1412, 2294, 2314, 2315, 2312, 2316, 2313, 2333, 2332, 2331, 2329, 2330, 2326]\n"
     ]
    }
   ],
   "source": [
    "lenth, path_of_wormhole = Find_Dominant_Wormhole(WB07.G, WB07.node_cordinates)\n",
    "print(path_of_wormhole)"
   ]
  },
  {
   "cell_type": "code",
   "execution_count": 100,
   "metadata": {},
   "outputs": [
    {
     "name": "stdout",
     "output_type": "stream",
     "text": [
      "[1303, 2206, 2211, 2214, 2217, 2225, 1408]\n"
     ]
    }
   ],
   "source": [
    "cycles = nx.find_cycle(WB07.G)\n",
    "\n",
    "if_main_wormhole_path = False\n",
    "\n",
    "junction_nodes = [];\n",
    "loop_source_sync = [] #make a copy\n",
    "for c in cycles:\n",
    "    u = c[0]; v = c[1];\n",
    "    if len(list(WB07.G.neighbors(u))) > 2 :\n",
    "        junction_nodes.append(u)\n",
    "    elif u in path_of_wormhole:\n",
    "        if_main_wormhole_path = True\n",
    "\n",
    "        \n",
    "def Longest_branch_in_loop(G, junction_nodes):\n",
    "    tmp_ln = 0;\n",
    "    source = 0;\n",
    "    sync = 0;\n",
    "    for i,j in itertools.combinations(junction_nodes, 2):\n",
    "        shortest_path_ln = nx.shortest_path_length(G,  i, j)\n",
    "            #Specific case to break the shortest branch\n",
    "        if tmp_ln < shortest_path_ln:\n",
    "            tmp_ln = shortest_path_ln\n",
    "            source = i; sync = j;\n",
    "    return [source,sync]\n",
    "        \n",
    "        \n",
    "        \n",
    "import itertools\n",
    "shortes_path = []\n",
    "\n",
    "if(if_main_wormhole_path == False):\n",
    "    if (len(junction_nodes) > 2):\n",
    "        for i,j in itertools.combinations(junction_nodes, 2):\n",
    "            shortes_path = nx.shortest_path(WB07.G,  i, j)\n",
    "            print(shortes_path)\n",
    "            if len([w for w in junction_nodes if w in shortes_path]) > 2:\n",
    "                loop_source_sync.extend([i,j])\n",
    "                break;\n",
    "            else:\n",
    "                loop_source_sync.extend(Longest_branch_in_loop(WB07.G,junction_nodes)) #Specific case to break the shortest branch\n",
    "                break;\n",
    "    else:\n",
    "        loop_source_sync = junction_nodes\n",
    "        \n",
    "elif (if_main_wormhole_path == True):\n",
    "        print(\"This cycle is in main wormhole path\")\n",
    "        if (len(junction_nodes) > 2):\n",
    "            for i,j in itertools.combinations(junction_nodes, 2):\n",
    "                if i in path_of_wormhole and j in path_of_wormhole:\n",
    "                    shortes_path = nx.shortest_path(WB07.G,  i, j)\n",
    "                    print(shortes_path)\n",
    "                    if len([w for w in junction_nodes if w in shortes_path]) > 2:\n",
    "                        loop_source_sync.extend([i,j])\n",
    "                        break;\n",
    "                    else:\n",
    "                        loop_source_sync = [jn for jn in junction_nodes if jn in path_of_wormhole]\n",
    "                 \n",
    "        else:\n",
    "            loop_source_sync = junction_nodes\n",
    "\n"
   ]
  },
  {
   "cell_type": "code",
   "execution_count": 101,
   "metadata": {},
   "outputs": [
    {
     "name": "stdout",
     "output_type": "stream",
     "text": [
      "[1303, 1408, 1454, 1411, 1407]\n",
      "[1303, 1411]\n"
     ]
    }
   ],
   "source": [
    "print(junction_nodes)\n",
    "print(loop_source_sync)"
   ]
  },
  {
   "cell_type": "code",
   "execution_count": 93,
   "metadata": {},
   "outputs": [
    {
     "name": "stdout",
     "output_type": "stream",
     "text": [
      "[[1303, 2206, 2211, 2214, 2217, 2225, 1408, 2247, 2270, 1454, 2269, 1411], [1303, 2208, 2207, 2205, 2210, 2213, 1407, 2239, 2244, 2245, 2246, 1411]]\n"
     ]
    }
   ],
   "source": [
    "loop_paths = list(nx.all_simple_paths(WB07.G, loop_source_sync[0], loop_source_sync[1]))\n",
    "print(loop_paths)"
   ]
  },
  {
   "cell_type": "code",
   "execution_count": 94,
   "metadata": {},
   "outputs": [
    {
     "data": {
      "text/plain": [
       "array([12, 12])"
      ]
     },
     "execution_count": 94,
     "metadata": {},
     "output_type": "execute_result"
    }
   ],
   "source": [
    "path_length = list(len(i) for i in loop_paths)\n",
    "path_length = np.sort(path_length)\n",
    "path_length"
   ]
  },
  {
   "cell_type": "markdown",
   "metadata": {},
   "source": [
    "### Deleting the edges"
   ]
  },
  {
   "cell_type": "code",
   "execution_count": 98,
   "metadata": {},
   "outputs": [],
   "source": [
    "tmp_e2 = [];\n",
    "for i in loop_paths:\n",
    "    if len(i) > path_length[0]:\n",
    "        e1 = loop_source_sync[1]\n",
    "        e2 = i[-2]\n",
    "        if e2 not in tmp_e2 and e2 not in nx.shortest_path(WB07.G, loop_source_sync[0], loop_source_sync[1]):\n",
    "            WB07.G.remove_edge(e1,e2)\n",
    "   #         print(loop_paths)\n",
    "            tmp_e2.append(e2)\n",
    "        "
   ]
  },
  {
   "cell_type": "code",
   "execution_count": 99,
   "metadata": {},
   "outputs": [
    {
     "data": {
      "text/plain": [
       "[]"
      ]
     },
     "execution_count": 99,
     "metadata": {},
     "output_type": "execute_result"
    }
   ],
   "source": [
    "tmp_e2"
   ]
  },
  {
   "cell_type": "code",
   "execution_count": 90,
   "metadata": {},
   "outputs": [
    {
     "name": "stdout",
     "output_type": "stream",
     "text": [
      "[(1303, 2206), (2206, 2211), (2211, 2214), (2214, 2217), (2217, 2225), (2225, 1408), (1408, 2247), (2247, 2270), (2270, 1454), (1454, 2269), (2269, 1411), (1411, 2246), (2246, 2245), (2245, 2244), (2244, 2239), (2239, 1407), (1407, 2213), (2213, 2210), (2210, 2205), (2205, 2207), (2207, 2208), (2208, 1303)]\n"
     ]
    }
   ],
   "source": [
    "cycles = nx.find_cycle(WB07.G)\n",
    "print(cycles)"
   ]
  },
  {
   "cell_type": "code",
   "execution_count": null,
   "metadata": {},
   "outputs": [],
   "source": []
  },
  {
   "cell_type": "code",
   "execution_count": null,
   "metadata": {},
   "outputs": [],
   "source": [
    "def StrahlerOrder(G, root):\n",
    "    # initialize all nodes to 1\n",
    "    for p in G:\n",
    "        G.nodes[p]['Strahler'] = 1\n",
    "        G.nodes[p]['level'] = 0      # longest path from this node to a leaf - leaves have level 1.\n",
    "    \n",
    "    nodes = nx.dfs_postorder_nodes(G, root)\n",
    "    for p in nodes:\n",
    "        neigh = nx.all_neighbors(G, p)\n",
    "        delta = 0\n",
    "        mx = 0\n",
    "        level = 0\n",
    "        for q in neigh:\n",
    "            if G.nodes[q]['Strahler'] == mx: # we met the max value again\n",
    "                delta = 1 \n",
    "            if G.nodes[q]['Strahler'] > mx:\n",
    "                mx = G.nodes[q]['Strahler']\n",
    "                delta = 0\n",
    "            level = max(level, G.nodes[q]['level'])\n",
    "        G.nodes[p]['Strahler'] = mx + delta\n",
    "        G.nodes[p]['level'] = level + 1 \n",
    "        \n",
    "    # assign Strahler orders to edges too\n",
    "    for e in G.edges():\n",
    "        s = min(G.nodes[e[0]]['Strahler'], G.nodes[e[1]]['Strahler'])\n",
    "        G[e[0]] [e[1]] ['Strahler'] = s\n",
    "        s = min(G.nodes[e[0]]['level'], G.nodes[e[1]]['level'])\n",
    "        G[e[0]] [e[1]] ['level'] = s\n",
    "\n",
    "    # determine the parent of each node, based on the node 'level'\n",
    "    for n in G:\n",
    "        m = 0\n",
    "        p = None\n",
    "        for n2 in G[n]:\n",
    "            if G.nodes[n2]['level'] > m and G.nodes[n2]['level'] > G.nodes[n]['level']:\n",
    "                m = G.nodes[n2]['level']\n",
    "                p = n2\n",
    "        G.nodes[n]['parent'] = p\n",
    "    return"
   ]
  },
  {
   "cell_type": "code",
   "execution_count": null,
   "metadata": {},
   "outputs": [],
   "source": []
  },
  {
   "cell_type": "code",
   "execution_count": null,
   "metadata": {},
   "outputs": [],
   "source": []
  },
  {
   "cell_type": "markdown",
   "metadata": {},
   "source": [
    "### Analyze skeleton testing methods"
   ]
  },
  {
   "cell_type": "markdown",
   "metadata": {},
   "source": [
    "### Convert to sparse matrix for networkx"
   ]
  },
  {
   "cell_type": "code",
   "execution_count": 36,
   "metadata": {},
   "outputs": [],
   "source": [
    "from skan import skeleton_to_csgraph\n",
    "import networkx as nx\n",
    "from skan import draw\n",
    "\n",
    "pg, cord, deg = skeleton_to_csgraph(skeleton)"
   ]
  },
  {
   "cell_type": "code",
   "execution_count": 37,
   "metadata": {},
   "outputs": [],
   "source": [
    "G = nx.from_scipy_sparse_matrix(pg)"
   ]
  },
  {
   "cell_type": "markdown",
   "metadata": {},
   "source": [
    "### Adding positions in graph G"
   ]
  },
  {
   "cell_type": "code",
   "execution_count": 38,
   "metadata": {},
   "outputs": [],
   "source": [
    "pos = {}\n",
    "pos = {i: (cord[i,0], cord[i,1],cord[i,2]) for i in range(len(cord))}\n",
    "\n",
    "for n, p in pos.items():\n",
    "    G.nodes[n]['pos'] = p\n",
    "    "
   ]
  },
  {
   "cell_type": "code",
   "execution_count": 39,
   "metadata": {},
   "outputs": [
    {
     "data": {
      "text/plain": [
       "<module 'networkxtoVTK' from '/home/rishabhstein/Documents/Python_Scripts/Notebooks/networkxtoVTK.py'>"
      ]
     },
     "execution_count": 39,
     "metadata": {},
     "output_type": "execute_result"
    }
   ],
   "source": [
    "\n"
   ]
  },
  {
   "cell_type": "code",
   "execution_count": 40,
   "metadata": {},
   "outputs": [],
   "source": []
  },
  {
   "cell_type": "code",
   "execution_count": null,
   "metadata": {},
   "outputs": [],
   "source": [
    "StrahlerOrder(G, 1)\n",
    "listok =[]\n",
    "for n, p in pos.items():\n",
    "    listok.append(G.nodes[n]['level'])\n",
    "    print(n, G.nodes[n])"
   ]
  },
  {
   "cell_type": "code",
   "execution_count": null,
   "metadata": {},
   "outputs": [],
   "source": []
  },
  {
   "cell_type": "code",
   "execution_count": null,
   "metadata": {},
   "outputs": [],
   "source": [
    "inletx,_, _ = np.argmin(cord, axis=0)\n",
    "outlet = len(cord)\n",
    "print(inletx)\n",
    "print(cord[inletx])"
   ]
  },
  {
   "cell_type": "code",
   "execution_count": null,
   "metadata": {},
   "outputs": [],
   "source": [
    "path_to_node = nx.shortest_path(G, 1,  190)"
   ]
  },
  {
   "cell_type": "code",
   "execution_count": null,
   "metadata": {},
   "outputs": [],
   "source": [
    "lenth = nx.shortest_path_length(G,1,190,weight='weight')/cord[190][0]"
   ]
  },
  {
   "cell_type": "code",
   "execution_count": null,
   "metadata": {},
   "outputs": [],
   "source": [
    "nx.draw_networkx_edges(G, pos)"
   ]
  },
  {
   "cell_type": "code",
   "execution_count": null,
   "metadata": {},
   "outputs": [],
   "source": [
    "plt.figure(figsize=(5,10))\n",
    "plt.plot(cord[:,2], cord[:,0],'b.' )"
   ]
  },
  {
   "cell_type": "markdown",
   "metadata": {},
   "source": [
    "### For plotting network imported in networkx"
   ]
  },
  {
   "cell_type": "code",
   "execution_count": null,
   "metadata": {},
   "outputs": [],
   "source": [
    "from mpl_toolkits.mplot3d import Axes3D\n",
    "def network_plot_3D(G, angle, save=False):\n",
    "\n",
    "    # Get node positions\n",
    "    pos = nx.get_node_attributes(G, 'pos')\n",
    "    \n",
    "    # Get number of nodes\n",
    "    n = G.number_of_nodes()\n",
    "\n",
    "    # Get the maximum number of edges adjacent to a single node\n",
    "    edge_max = max([G.degree(i) for i in range(n)])\n",
    "\n",
    "    # Define color range proportional to number of edges adjacent to a single node\n",
    "    colors = [plt.cm.plasma(G.degree(i)/edge_max) for i in range(n)] \n",
    "\n",
    "    # 3D network plot\n",
    "    with plt.style.context(('ggplot')):\n",
    "        \n",
    "        fig = plt.figure(figsize=(7,10))\n",
    "        ax = Axes3D(fig)\n",
    "        \n",
    "        # Loop on the pos dictionary to extract the x,y,z coordinates of each node\n",
    "        for key, value in pos.items():\n",
    "            xi = value[0]\n",
    "            yi = value[1]\n",
    "            zi = value[2]\n",
    "            \n",
    "            # Scatter plot\n",
    "#            ax.scatter(xi, yi, zi)#, c=colors[key], s=20+20*G.degree(key), edgecolors='k', alpha=0.7)\n",
    "        \n",
    "        # Loop on the list of edges to get the x,y,z, coordinates of the connected nodes\n",
    "        # Those two points are the extrema of the line to be plotted\n",
    "        for i,j in enumerate(G.edges()):\n",
    "\n",
    "            x = np.array((pos[j[0]][0], pos[j[1]][0]))\n",
    "            y = np.array((pos[j[0]][1], pos[j[1]][1]))\n",
    "            z = np.array((pos[j[0]][2], pos[j[1]][2]))\n",
    "        \n",
    "        # Plot the connecting lines\n",
    "            ax.plot(x, y, z, c='black', alpha=0.5)\n",
    "    \n",
    "    # Set the initial view\n",
    "    ax.view_init(angle,180)\n",
    "\n",
    "    # Hide the axes\n",
    "    #ax.set_axis_off()\n",
    "\n",
    "    \n",
    "    if save is not False:\n",
    "        plt.savefig(\"../Skeletons/\"+str(angle).zfill(3)+\".png\")\n",
    "        plt.close('all')\n",
    "    else:\n",
    "        plt.show()\n",
    "\n",
    "    return"
   ]
  },
  {
   "cell_type": "code",
   "execution_count": null,
   "metadata": {},
   "outputs": [],
   "source": [
    "# for k in range(20,21,4):\n",
    "k=70\n",
    "angle = (k-20)*360/(200-20)\n",
    "\n",
    "network_plot_3D(G, angle, save=False)\n",
    "print(angle)"
   ]
  },
  {
   "cell_type": "markdown",
   "metadata": {},
   "source": [
    "### Let's study skeleton"
   ]
  },
  {
   "cell_type": "code",
   "execution_count": null,
   "metadata": {},
   "outputs": [],
   "source": [
    "from skan import Skeleton, summarize\n",
    "data = summarize(Skeleton(skeleton))\n",
    "data.tail()\n"
   ]
  },
  {
   "cell_type": "code",
   "execution_count": null,
   "metadata": {},
   "outputs": [],
   "source": [
    "branch_dist = data['branch-distance']\n",
    "np.sum(branch_dist)"
   ]
  },
  {
   "cell_type": "code",
   "execution_count": null,
   "metadata": {},
   "outputs": [],
   "source": [
    "file = '/home/rishabhstein/Documents/Python_Scripts/Copied_Data/Wierzbica/WB10/crop_268_368.tif'\n",
    "import cv2 as cv\n",
    "\n",
    "plt.figure(figsize=[10,10])\n",
    "img = cv.imread(file,0)\n",
    "n,b,c = plt.hist(img.ravel(), bins =200)\n",
    "plt.xlim(2,255)\n",
    "plt.ylim(0,80000)\n",
    "plt.xlabel('Pixel intensity')\n",
    "plt.ylabel('No. of pixels')\n",
    "plt.savefig('../histogram_slicee.png')"
   ]
  },
  {
   "cell_type": "code",
   "execution_count": null,
   "metadata": {},
   "outputs": [],
   "source": [
    "plt.figure(figsize=[10,10])\n",
    "plt.plot(n)\n",
    "plt.xlim(2,255)\n",
    "plt.ylim(0,110000)\n",
    "plt.xlabel('Pixel intensity')\n",
    "plt.ylabel('No. of pixels')\n",
    "#plt.savefig('../histogram_slicee.png')"
   ]
  },
  {
   "cell_type": "code",
   "execution_count": null,
   "metadata": {},
   "outputs": [],
   "source": [
    "from skimage.morphology import skeletonize_3d medial_axis\n",
    "from skimage import data\n",
    "import matplotlib.pyplot as plt\n",
    "from skimage.util import invert\n",
    "import skimage as sk\n",
    "\n",
    "# Invert the horse image\n",
    "image = sk.io.imread('/home/rishabhstein/Desktop/Cone1.tif', as_gray = False)\n",
    "\n",
    "# perform skeletonization\n",
    "skeleton = medial_axis(image)\n",
    "\n",
    "sk.io.imsave('../Skeleton_scikit.tif',skeleton)\n",
    "# # display results\n",
    "# fig, axes = plt.subplots(nrows=1, ncols=2, figsize=(8, 4),\n",
    "#                          sharex=True, sharey=True)\n",
    "\n",
    "# ax = axes.ravel()\n",
    "\n",
    "# ax[0].imshow(image, cmap=plt.cm.gray)\n",
    "# ax[0].axis('off')\n",
    "# ax[0].set_title('original', fontsize=20)\n",
    "\n",
    "# ax[1].imshow(skeleton, cmap=plt.cm.gray)\n",
    "# ax[1].axis('off')\n",
    "# ax[1].set_title('skeleton', fontsize=20)\n",
    "\n",
    "# fig.tight_layout()\n",
    "# plt.show()\n"
   ]
  },
  {
   "cell_type": "code",
   "execution_count": null,
   "metadata": {},
   "outputs": [],
   "source": [
    "import numpy as np\n",
    "np.shape(image)"
   ]
  },
  {
   "cell_type": "code",
   "execution_count": null,
   "metadata": {},
   "outputs": [],
   "source": [
    "from mpl_toolkits.mplot3d import axes3d\n",
    "import matplotlib.pyplot as plt\n",
    "\n",
    "fig = plt.figure()\n",
    "ax = fig.add_subplot(111, projection='3d')\n",
    "\n",
    "# load some test data for demonstration and plot a wireframe\n",
    "X, Y, Z = axes3d.get_test_data(0.1)\n",
    "ax.plot_wireframe(X, Y, Z, rstride=5, cstride=5)\n",
    "\n",
    "# rotate the axes and update\n",
    "# for angle in range(0, 360):\n",
    "angle = 18\n",
    "ax.view_init(angle, 50)\n",
    "plt.draw()\n",
    "#     plt.savefig(\"../Skeletons/\"+str(angle).zfill(3)+\".png\")\n",
    "  #  plt.close('all')"
   ]
  },
  {
   "cell_type": "code",
   "execution_count": null,
   "metadata": {},
   "outputs": [],
   "source": []
  }
 ],
 "metadata": {
  "kernelspec": {
   "display_name": "Python 3",
   "language": "python",
   "name": "python3"
  },
  "language_info": {
   "codemirror_mode": {
    "name": "ipython",
    "version": 3
   },
   "file_extension": ".py",
   "mimetype": "text/x-python",
   "name": "python",
   "nbconvert_exporter": "python",
   "pygments_lexer": "ipython3",
   "version": "3.7.3"
  }
 },
 "nbformat": 4,
 "nbformat_minor": 4
}
