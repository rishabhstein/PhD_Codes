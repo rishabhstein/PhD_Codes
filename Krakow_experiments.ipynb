{
 "cells": [
  {
   "cell_type": "markdown",
   "metadata": {},
   "source": [
    "### Krakow Experiments"
   ]
  },
  {
   "cell_type": "code",
   "execution_count": 1,
   "metadata": {},
   "outputs": [],
   "source": [
    "import numpy as np\n",
    "from datetime import datetime\n",
    "\n",
    "class Experiments:\n",
    "    \n",
    "    def __init__(self, name, d, l):\n",
    "        self.name = name\n",
    "        self.l = l;\n",
    "        self.d = d;\n",
    "        self.Q = 0;\n",
    "        \n",
    "    def Volume(self):\n",
    "        return(np.pi * (self.d**2) * self.l/4)\n",
    "\n",
    "    def Surface_area(self):\n",
    "        return(np.pi* self.d* self.l)\n",
    "\n",
    "    def Inlet_area(self):\n",
    "        return(np.pi * (self.d**2) /4)\n",
    "    \n",
    "    def Average_velocity(self):\n",
    "        return(self.Q/self.Inlet_area());\n",
    "    \n",
    "    def time_stamp(self):\n",
    "        with open(self.name+'.txt','a') as f:\n",
    "            tmp = datetime.now()\n",
    "            print('Writing time to file: ' + str(tmp))\n",
    "            f.write(self.name + ' :' + str(tmp)+ '\\n')\n",
    "    \n",
    "    "
   ]
  },
  {
   "cell_type": "code",
   "execution_count": 2,
   "metadata": {},
   "outputs": [
    {
     "name": "stdout",
     "output_type": "stream",
     "text": [
      "0.08817448370742124\n"
     ]
    }
   ],
   "source": [
    "#Sample-1\n",
    "core_dia = 3.8 #cm\n",
    "core_length = 11.5 #cm\n",
    "Flow_rate = 1 #ml/min\n",
    "\n",
    "E1 = Experiments('PZ_27_Half_dissolved', core_dia, core_length)\n",
    "E1.Q = Flow_rate;\n",
    "print(E1.Average_velocity())"
   ]
  },
  {
   "cell_type": "markdown",
   "metadata": {},
   "source": [
    "### Timestamp"
   ]
  },
  {
   "cell_type": "code",
   "execution_count": 23,
   "metadata": {},
   "outputs": [
    {
     "name": "stdout",
     "output_type": "stream",
     "text": [
      "Writing time to file: 2020-03-04 14:28:08.442177\n"
     ]
    }
   ],
   "source": [
    "E1.time_stamp()"
   ]
  },
  {
   "cell_type": "code",
   "execution_count": null,
   "metadata": {},
   "outputs": [],
   "source": []
  },
  {
   "cell_type": "code",
   "execution_count": null,
   "metadata": {},
   "outputs": [],
   "source": []
  }
 ],
 "metadata": {
  "kernelspec": {
   "display_name": "Python 3",
   "language": "python",
   "name": "python3"
  },
  "language_info": {
   "codemirror_mode": {
    "name": "ipython",
    "version": 3
   },
   "file_extension": ".py",
   "mimetype": "text/x-python",
   "name": "python",
   "nbconvert_exporter": "python",
   "pygments_lexer": "ipython3",
   "version": "3.7.5"
  }
 },
 "nbformat": 4,
 "nbformat_minor": 4
}
