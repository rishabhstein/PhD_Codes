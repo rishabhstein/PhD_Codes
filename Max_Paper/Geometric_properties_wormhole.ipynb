{
 "cells": [
  {
   "cell_type": "code",
   "execution_count": 1,
   "metadata": {},
   "outputs": [
    {
     "name": "stderr",
     "output_type": "stream",
     "text": [
      "In /home/rishabhstein/anaconda3/lib/python3.7/site-packages/matplotlib/mpl-data/stylelib/_classic_test.mplstyle: \n",
      "The text.latex.preview rcparam was deprecated in Matplotlib 3.3 and will be removed two minor releases later.\n",
      "In /home/rishabhstein/anaconda3/lib/python3.7/site-packages/matplotlib/mpl-data/stylelib/_classic_test.mplstyle: \n",
      "The mathtext.fallback_to_cm rcparam was deprecated in Matplotlib 3.3 and will be removed two minor releases later.\n",
      "In /home/rishabhstein/anaconda3/lib/python3.7/site-packages/matplotlib/mpl-data/stylelib/_classic_test.mplstyle: Support for setting the 'mathtext.fallback_to_cm' rcParam is deprecated since 3.3 and will be removed two minor releases later; use 'mathtext.fallback : 'cm' instead.\n",
      "In /home/rishabhstein/anaconda3/lib/python3.7/site-packages/matplotlib/mpl-data/stylelib/_classic_test.mplstyle: \n",
      "The validate_bool_maybe_none function was deprecated in Matplotlib 3.3 and will be removed two minor releases later.\n",
      "In /home/rishabhstein/anaconda3/lib/python3.7/site-packages/matplotlib/mpl-data/stylelib/_classic_test.mplstyle: \n",
      "The savefig.jpeg_quality rcparam was deprecated in Matplotlib 3.3 and will be removed two minor releases later.\n",
      "In /home/rishabhstein/anaconda3/lib/python3.7/site-packages/matplotlib/mpl-data/stylelib/_classic_test.mplstyle: \n",
      "The keymap.all_axes rcparam was deprecated in Matplotlib 3.3 and will be removed two minor releases later.\n",
      "In /home/rishabhstein/anaconda3/lib/python3.7/site-packages/matplotlib/mpl-data/stylelib/_classic_test.mplstyle: \n",
      "The animation.avconv_path rcparam was deprecated in Matplotlib 3.3 and will be removed two minor releases later.\n",
      "In /home/rishabhstein/anaconda3/lib/python3.7/site-packages/matplotlib/mpl-data/stylelib/_classic_test.mplstyle: \n",
      "The animation.avconv_args rcparam was deprecated in Matplotlib 3.3 and will be removed two minor releases later.\n"
     ]
    },
    {
     "name": "stdout",
     "output_type": "stream",
     "text": [
      "Populating the interactive namespace from numpy and matplotlib\n"
     ]
    }
   ],
   "source": [
    "%pylab inline\n",
    "import skimage.io as sk\n",
    "import imageio\n",
    "import ipywidgets as wdg\n",
    "import skan\n",
    "from pathlib import Path\n",
    "import pandas as pd"
   ]
  },
  {
   "cell_type": "code",
   "execution_count": 2,
   "metadata": {},
   "outputs": [],
   "source": [
    "path = Path('/media/rishabhstein/SSD/Data_for_testing_the definition_of_Threshold/')\n",
    "fsuffix = 'WB10_diff72_downscaledby2.tif' #It can be a list in Path folder\n",
    "\n",
    "\n",
    "file = Path(path.resolve(), fsuffix)\n",
    "img = sk.imread(str(file), as_gray=False)"
   ]
  },
  {
   "cell_type": "markdown",
   "metadata": {},
   "source": [
    "### Choosing a point of wormhole to extract it from grayscale difference image"
   ]
  },
  {
   "cell_type": "code",
   "execution_count": 3,
   "metadata": {},
   "outputs": [
    {
     "name": "stdout",
     "output_type": "stream",
     "text": [
      "253 333\n"
     ]
    }
   ],
   "source": [
    "%matplotlib tk\n",
    "fig = figure(figsize=(7,7))\n",
    "z = 590\n",
    "imshow(img[z], cmap=\"gray\")\n",
    "x = 0; y = 0\n",
    "def onclick(event):\n",
    "    global x\n",
    "    global y\n",
    "    close()\n",
    "    x = int(floor(event.xdata))\n",
    "    y = int(floor(event.ydata))\n",
    "    print(x,y)\n",
    "\n",
    "ka = fig.canvas.mpl_connect('button_press_event', onclick)"
   ]
  },
  {
   "cell_type": "code",
   "execution_count": 4,
   "metadata": {},
   "outputs": [],
   "source": [
    "point = [z, x, y]"
   ]
  },
  {
   "cell_type": "code",
   "execution_count": 187,
   "metadata": {},
   "outputs": [],
   "source": [
    "import sys\n",
    "sys.path.append('../')\n",
    "import lib.Geometric_properties_of_wormhole as GPM"
   ]
  },
  {
   "cell_type": "code",
   "execution_count": 188,
   "metadata": {},
   "outputs": [
    {
     "data": {
      "text/plain": [
       "<module 'lib.Geometric_properties_of_wormhole' from '../lib/Geometric_properties_of_wormhole.py'>"
      ]
     },
     "execution_count": 188,
     "metadata": {},
     "output_type": "execute_result"
    }
   ],
   "source": [
    "#Reload modules\n",
    "import importlib\n",
    "importlib.reload(GPM)"
   ]
  },
  {
   "cell_type": "markdown",
   "metadata": {},
   "source": [
    "## Without Median Filter"
   ]
  },
  {
   "cell_type": "markdown",
   "metadata": {},
   "source": [
    "### Extraction of Wormhole"
   ]
  },
  {
   "cell_type": "code",
   "execution_count": 205,
   "metadata": {},
   "outputs": [
    {
     "name": "stdout",
     "output_type": "stream",
     "text": [
      "Finding dominant wormhole\n",
      "%=====================Looking for Inlet node=========================%\n",
      "\n",
      "Node-0is not connected to main wormhole\n",
      "Node-2 is connected and chosen as source node\n",
      "%=====================Looking for Outlet node=========================%\n",
      "\n",
      "\n",
      " Node-14752 is connected and chosen as outlet node\n",
      "Finding dominant wormhole\n",
      "%=====================Looking for Inlet node=========================%\n",
      "\n",
      "Node-0is not connected to main wormhole\n",
      "Node-1 is connected and chosen as source node\n",
      "%=====================Looking for Outlet node=========================%\n",
      "\n",
      "\n",
      " Node-9497 is connected and chosen as outlet node\n",
      "Finding dominant wormhole\n",
      "%=====================Looking for Inlet node=========================%\n",
      "\n",
      "Node-0is not connected to main wormhole\n",
      "Node-1 is connected and chosen as source node\n",
      "%=====================Looking for Outlet node=========================%\n",
      "\n",
      "\n",
      " Node-6576 is connected and chosen as outlet node\n",
      "Finding dominant wormhole\n",
      "%=====================Looking for Inlet node=========================%\n",
      "\n",
      "Node-0is not connected to main wormhole\n",
      "Node-1 is connected and chosen as source node\n",
      "%=====================Looking for Outlet node=========================%\n",
      "\n",
      "\n",
      " Node-5935 is connected and chosen as outlet node\n"
     ]
    }
   ],
   "source": [
    "list_threshold = [545.0, 665.0, 825.0, 1025.0]\n",
    "properties = [];\n",
    "\n",
    "for th_value in list_threshold:\n",
    "    \n",
    "    sample = GPM.Wormhole_from_tomography(img, suffix = fsuffix, voxel_size = 35, downscaling_factor=2)\n",
    "    # Finding the wormhole\n",
    "    Vol_unfill, wormhole_unfilled = sample.Connected_components_extraction(th_value=th_value, point=point)\n",
    "\n",
    "    #Filling the holes and calculatin volume\n",
    "    Vol_fill, wormhole_filled = sample.Fill_holes_in_wormhole()\n",
    "\n",
    "    #Calculating Surface area and Volume in voxels as well as cm scale\n",
    "    SA = sample.Surface_area_Legland_et_al()\n",
    "    Vol_cm, SA_cm = sample.Volume_and_Surface_area_Cm2()\n",
    "\n",
    "\n",
    "    #Skeletonization and its properties\n",
    "    _ = sample.Skeletonise_the_wormhole()\n",
    "\n",
    "    properties.append(sample.info)\n"
   ]
  },
  {
   "cell_type": "code",
   "execution_count": 206,
   "metadata": {},
   "outputs": [
    {
     "data": {
      "text/plain": [
       "[{'File_name': 'WB10_diff72_downscaledby2.tif',\n",
       "  'voxel_size': 35,\n",
       "  'downscaling_factor': 2,\n",
       "  'Volume_in_voxel': 279384,\n",
       "  'Volume in cm3': 0.095828712,\n",
       "  'Surface_area_in_voxel': 133360.758320059,\n",
       "  'Surface_area_in_cm2': 0.0653467715768289,\n",
       "  'Length_of_wormhole': 1492.0670164589856,\n",
       "  'Tortuosity': 1.4787581927244653,\n",
       "  'Wastefullness': 23.53528255168303},\n",
       " {'File_name': 'WB10_diff72_downscaledby2.tif',\n",
       "  'voxel_size': 35,\n",
       "  'downscaling_factor': 2,\n",
       "  'Volume_in_voxel': 250730,\n",
       "  'Volume in cm3': 0.08600039,\n",
       "  'Surface_area_in_voxel': 110362.09290631153,\n",
       "  'Surface_area_in_cm2': 0.05407742552409266,\n",
       "  'Length_of_wormhole': 1489.0981265227713,\n",
       "  'Tortuosity': 1.4758157844626079,\n",
       "  'Wastefullness': 14.671704795064976},\n",
       " {'File_name': 'WB10_diff72_downscaledby2.tif',\n",
       "  'voxel_size': 35,\n",
       "  'downscaling_factor': 2,\n",
       "  'Volume_in_voxel': 223384,\n",
       "  'Volume in cm3': 0.076620712,\n",
       "  'Surface_area_in_voxel': 97504.3696867419,\n",
       "  'Surface_area_in_cm2': 0.047777141146503534,\n",
       "  'Length_of_wormhole': 1553.270296984504,\n",
       "  'Tortuosity': 1.5394155569717582,\n",
       "  'Wastefullness': 10.035500045628885},\n",
       " {'File_name': 'WB10_diff72_downscaledby2.tif',\n",
       "  'voxel_size': 35,\n",
       "  'downscaling_factor': 2,\n",
       "  'Volume_in_voxel': 195210,\n",
       "  'Volume in cm3': 0.06695703,\n",
       "  'Surface_area_in_voxel': 92833.97461278357,\n",
       "  'Surface_area_in_cm2': 0.04548864756026395,\n",
       "  'Length_of_wormhole': 1565.2205856948065,\n",
       "  'Tortuosity': 1.5512592524229996,\n",
       "  'Wastefullness': 9.038478796208155}]"
      ]
     },
     "execution_count": 206,
     "metadata": {},
     "output_type": "execute_result"
    }
   ],
   "source": [
    "properties"
   ]
  },
  {
   "cell_type": "code",
   "execution_count": 200,
   "metadata": {},
   "outputs": [
    {
     "data": {
      "text/plain": [
       "{'File_name': 'WB10_diff72_downscaledby2.tif',\n",
       " 'voxel_size': 35,\n",
       " 'downscaling_factor': 2,\n",
       " 'Volume_in_voxel': 276074,\n",
       " 'Volume in cm3': 0.094693382,\n",
       " 'Surface_area_in_voxel': 130600.38768812447,\n",
       " 'Surface_area_in_cm2': 0.063994189967181,\n",
       " 'Length_of_wormhole': 1491.5994547586529,\n",
       " 'Tortuosity': 1.4782948015447501,\n",
       " 'Wastefullness': 21.970640969207444}"
      ]
     },
     "execution_count": 200,
     "metadata": {},
     "output_type": "execute_result"
    }
   ],
   "source": [
    "sample.info"
   ]
  },
  {
   "cell_type": "markdown",
   "metadata": {},
   "source": [
    "### Save tiff file"
   ]
  },
  {
   "cell_type": "code",
   "execution_count": 1,
   "metadata": {},
   "outputs": [],
   "source": [
    "from tifffile import imsave\n",
    "imsave(fsuffix.strip('.tif') + '_skeletonisez.tif', skelton)"
   ]
  },
  {
   "cell_type": "markdown",
   "metadata": {},
   "source": [
    "## With Median filter"
   ]
  },
  {
   "cell_type": "code",
   "execution_count": 190,
   "metadata": {},
   "outputs": [],
   "source": [
    "from scipy import ndimage\n",
    "filterd_image = ndimage.median_filter(sample.filled_wormhole, size = 2)"
   ]
  },
  {
   "cell_type": "code",
   "execution_count": 99,
   "metadata": {},
   "outputs": [],
   "source": [
    "from tifffile import imsave\n",
    "imsave(fsuffix.strip('.tif') + '_median3D.tif', filterd_image)"
   ]
  },
  {
   "cell_type": "code",
   "execution_count": 191,
   "metadata": {},
   "outputs": [],
   "source": [
    "fsuffix_new = fsuffix.strip('.tif') + '_median3D.tif'\n",
    "filtered_sample = GPM.Wormhole_from_tomography(filterd_image, suffix = fsuffix_new, voxel_size = 35, downscaling_factor=2)\n",
    "Vol_fill, wormhole_filled = filtered_sample.Fill_holes_in_wormhole_external_image(filterd_image, if_update_class=True)\n",
    "SA = filtered_sample.Surface_area_Legland_et_al()\n",
    "Vol_cm, SA_cm = filtered_sample.Volume_and_Surface_area_Cm2()"
   ]
  },
  {
   "cell_type": "code",
   "execution_count": 192,
   "metadata": {},
   "outputs": [
    {
     "name": "stdout",
     "output_type": "stream",
     "text": [
      "Finding dominant wormhole\n",
      "%=====================Looking for Inlet node=========================%\n",
      "\n",
      "Node-0is not connected to main wormhole\n",
      "Node-1 is connected and chosen as source node\n",
      "%=====================Looking for Outlet node=========================%\n",
      "\n",
      "\n",
      " Node-5815 is connected and chosen as outlet node\n"
     ]
    }
   ],
   "source": [
    "_ = filtered_sample.Skeletonise_the_wormhole()"
   ]
  },
  {
   "cell_type": "code",
   "execution_count": 193,
   "metadata": {},
   "outputs": [
    {
     "data": {
      "text/plain": [
       "{'File_name': 'WB10_diff72_downscaledby2_median3D.tif',\n",
       " 'voxel_size': 35,\n",
       " 'downscaling_factor': 2,\n",
       " 'Volume_in_voxel': 285704,\n",
       " 'Volume in cm3': 0.097996472,\n",
       " 'Surface_area_in_voxel': 105565.50688884944,\n",
       " 'Surface_area_in_cm2': 0.051727098375536226,\n",
       " 'Length_of_wormhole': 1528.0920045700566,\n",
       " 'Tortuosity': 1.5144618479386092,\n",
       " 'Wastefullness': 8.139148789058495}"
      ]
     },
     "execution_count": 193,
     "metadata": {},
     "output_type": "execute_result"
    }
   ],
   "source": [
    "filtered_sample.info"
   ]
  },
  {
   "cell_type": "code",
   "execution_count": 197,
   "metadata": {},
   "outputs": [
    {
     "data": {
      "text/plain": [
       "10.472000000000001"
      ]
     },
     "execution_count": 197,
     "metadata": {},
     "output_type": "execute_result"
    }
   ],
   "source": [
    "1496*2*35*1e-4\n"
   ]
  },
  {
   "cell_type": "code",
   "execution_count": null,
   "metadata": {},
   "outputs": [],
   "source": []
  }
 ],
 "metadata": {
  "kernelspec": {
   "display_name": "Python 3",
   "language": "python",
   "name": "python3"
  },
  "language_info": {
   "codemirror_mode": {
    "name": "ipython",
    "version": 3
   },
   "file_extension": ".py",
   "mimetype": "text/x-python",
   "name": "python",
   "nbconvert_exporter": "python",
   "pygments_lexer": "ipython3",
   "version": "3.7.3"
  }
 },
 "nbformat": 4,
 "nbformat_minor": 4
}
