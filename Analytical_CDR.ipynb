{
 "cells": [
  {
   "cell_type": "code",
   "execution_count": 234,
   "metadata": {},
   "outputs": [],
   "source": [
    "f = open('C0','r')\n",
    "c = []\n",
    "for line in f:\n",
    "    c.append(list(map(float,line.strip('\\n').split())))\n",
    "    "
   ]
  },
  {
   "cell_type": "markdown",
   "metadata": {},
   "source": [
    "## Analytical Solution of CDR eq."
   ]
  },
  {
   "cell_type": "code",
   "execution_count": 235,
   "metadata": {},
   "outputs": [
    {
     "name": "stdout",
     "output_type": "stream",
     "text": [
      "-0.008975633058656412 * x + -0.00015222219655770572\n",
      "\n",
      "Slope for analytical solution is  -0.05282341784187136\n"
     ]
    },
    {
     "data": {
      "text/plain": [
       "[<matplotlib.lines.Line2D at 0x266e11fb630>]"
      ]
     },
     "execution_count": 235,
     "metadata": {},
     "output_type": "execute_result"
    },
    {
     "data": {
      "image/png": "[encoded data removed]",
      "text/plain": [
       "<Figure size 720x360 with 2 Axes>"
      ]
     },
     "metadata": {
      "needs_background": "light"
     },
     "output_type": "display_data"
    }
   ],
   "source": [
    "import numpy as np\n",
    "import matplotlib.pyplot as plt\n",
    "from scipy.optimize import curve_fit\n",
    "\n",
    "L = 11.7\n",
    "x_min, x_max = 0, L\n",
    "x = np.linspace(x_min,x_max,len(c));\n",
    "C0 = 1.0;\n",
    "phi = 0.5;\n",
    "Pe = 1; Da = 1;\n",
    "\n",
    "C_ana = C0*np.exp((Pe - np.sqrt(Pe**2 + 4*Pe*Da))*x/(2*L))\n",
    "\n",
    "def line(x,m,p):\n",
    "    return(m*x + p);\n",
    "\n",
    "c1 = np.array(np.log(c[0:200]))\n",
    "\n",
    "# plt.plot(np.log(c[0:200]))\n",
    "A,B = curve_fit(line, x[0:200], c1[:,0])\n",
    "print(A[0],\"* x +\",A[1])\n",
    "print('\\nSlope for analytical solution is ', (Pe - np.sqrt(Pe**2 + 4*Pe*Da))*1/(2*L))\n",
    "l_fit = A[0]*x + A[1]\n",
    "\n",
    "\n",
    "fig, ax = plt.subplots(1,2,figsize = (10,5))\n",
    "ax[0].plot(x,C_ana,'r-')\n",
    "ax[0].plot(x,c,':.')\n",
    "ax[1].plot(x,np.log(C_ana),'r-')\n",
    "ax[1].plot(x,l_fit,':.')\n",
    "\n"
   ]
  },
  {
   "cell_type": "code",
   "execution_count": 237,
   "metadata": {},
   "outputs": [
    {
     "data": {
      "text/plain": [
       "5.932584269662922"
      ]
     },
     "execution_count": 237,
     "metadata": {},
     "output_type": "execute_result"
    }
   ],
   "source": [
    "0.0528/0.0089\n"
   ]
  },
  {
   "cell_type": "code",
   "execution_count": null,
   "metadata": {},
   "outputs": [],
   "source": []
  }
 ],
 "metadata": {
  "kernelspec": {
   "display_name": "Python 3",
   "language": "python",
   "name": "python3"
  },
  "language_info": {
   "codemirror_mode": {
    "name": "ipython",
    "version": 3
   },
   "file_extension": ".py",
   "mimetype": "text/x-python",
   "name": "python",
   "nbconvert_exporter": "python",
   "pygments_lexer": "ipython3",
   "version": "3.7.1"
  }
 },
 "nbformat": 4,
 "nbformat_minor": 2
}
